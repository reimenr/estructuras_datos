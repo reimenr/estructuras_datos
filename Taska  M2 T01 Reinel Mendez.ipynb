{
 "cells": [
  {
   "cell_type": "code",
   "execution_count": 17,
   "id": "405ea62e",
   "metadata": {},
   "outputs": [
    {
     "name": "stdout",
     "output_type": "stream",
     "text": [
      "(['Enero', 'Febrero', 'Marzo'], ['Abril', 'Mayo', 'Junio'], ['Julio', 'Agosto', 'Septiembre'], ['Octubre', 'Noviembre', 'Diciembre'])\n",
      "['Enero', 'Febrero', 'Marzo']\n",
      "['Abril', 'Mayo', 'Junio']\n",
      "['Julio', 'Agosto', 'Septiembre']\n",
      "['Octubre', 'Noviembre', 'Diciembre']\n"
     ]
    }
   ],
   "source": [
    "# Ejercicio 1 \n",
    "# Crea una lista que agrupe los meses del año en trimestres \n",
    "#(1T: enero, febrero y marzo; 2T: abril, mayo, junio...), \n",
    "# es decir, una lista con 4 listas dentro.\n",
    "\n",
    "Meses = (T1,T2,T3,T4)\n",
    "print(Meses)\n",
    "\n",
    "T1 = [\"Enero\",\"Febrero\",\"Marzo\"]\n",
    "T2 = [\"Abril\",\"Mayo\",\"Junio\"]\n",
    "T3 = [\"Julio\",\"Agosto\",\"Septiembre\"]\n",
    "T4 = [\"Octubre\",\"Noviembre\",\"Diciembre\"]\n",
    "print(T1)\n",
    "print(T2)\n",
    "print(T3)\n",
    "print(T4)"
   ]
  },
  {
   "cell_type": "code",
   "execution_count": 50,
   "id": "43d78842",
   "metadata": {},
   "outputs": [
    {
     "data": {
      "text/plain": [
       "('Febrero', ['Enero', 'Febrero', 'Marzo'], 'Septiembre', 'Octubre')"
      ]
     },
     "execution_count": 50,
     "metadata": {},
     "output_type": "execute_result"
    }
   ],
   "source": [
    "# Ejercicio 2\n",
    "# Crea un código que te permita acceder a:\n",
    "# El segundo mes del primer trimestre.\n",
    "# Los meses del primer trimestre.\n",
    "# Septiembre y octubre.\n",
    "\n",
    "T1[1],T1,T3[2],T4[0]"
   ]
  },
  {
   "cell_type": "code",
   "execution_count": 3,
   "id": "fdbe5225",
   "metadata": {},
   "outputs": [
    {
     "name": "stdout",
     "output_type": "stream",
     "text": [
      "[1, 5, 8, 4, 0, 3, 6, 12, 16, 19, 34, 38, 25, 22, 15, 27, 3, 44, 48, 49]\n"
     ]
    }
   ],
   "source": [
    "# Ejercicio 3\n",
    "#Crea una lista con números desordenados y responde a las siguientes preguntas:\n",
    "#¿Cuántos números hay?\n",
    "#Cuántas veces aparece el número 3.\n",
    "#¿Cuántas veces aparecen los números 3 y 4?\n",
    "#¿Cuál es el mayor número?\n",
    "#¿Cuáles son los 3 números más pequeños?\n",
    "#¿Cuál es el rango de esa lista?\n",
    "\n",
    "num=[1, 5, 8, 4, 0, 3, 6, 12, 16, 19, 34, 38, 25, 22, 15, 27, 3, 44, 48, 49]\n",
    "print(num)"
   ]
  },
  {
   "cell_type": "code",
   "execution_count": 4,
   "id": "289f5521",
   "metadata": {},
   "outputs": [
    {
     "name": "stdout",
     "output_type": "stream",
     "text": [
      "Hay 20 numeros.\n"
     ]
    }
   ],
   "source": [
    "#¿Cuántos números hay?\n",
    "print(\"Hay\", len(num), \"numeros.\")"
   ]
  },
  {
   "cell_type": "code",
   "execution_count": 5,
   "id": "e1a65f44",
   "metadata": {},
   "outputs": [
    {
     "name": "stdout",
     "output_type": "stream",
     "text": [
      "El numero 3 aparece 2 veces\n"
     ]
    }
   ],
   "source": [
    "# Cuántas veces aparece el número 3.\n",
    "print(\"El numero 3 aparece\", num.count(3), \"veces\")"
   ]
  },
  {
   "cell_type": "code",
   "execution_count": 8,
   "id": "d6be74a7",
   "metadata": {},
   "outputs": [
    {
     "name": "stdout",
     "output_type": "stream",
     "text": [
      "El numero 3 aparece 2 veces.\n",
      "El numero 4 aparece 1 veces.\n",
      "Los numeros 3 y 4 aparecen 3 veces\n"
     ]
    }
   ],
   "source": [
    "#¿Cuántas veces aparecen los números 3 y 4?\n",
    "num.count(3)\n",
    "num.count(4)\n",
    "print(\"El numero 3 aparece {} veces.\".format(num.count(3)))\n",
    "print(\"El numero 4 aparece {} veces.\".format(num.count(4)))\n",
    "print(\"Los numeros 3 y 4 aparecen\", (num.count(3)+ num.count(4)), \"veces\")"
   ]
  },
  {
   "cell_type": "code",
   "execution_count": 92,
   "id": "c5e64945",
   "metadata": {},
   "outputs": [
    {
     "name": "stdout",
     "output_type": "stream",
     "text": [
      "El mayor numero es  49\n"
     ]
    }
   ],
   "source": [
    "# ¿Cuál es el mayor número?\n",
    "print(\"El mayor numero es \", max(num))"
   ]
  },
  {
   "cell_type": "code",
   "execution_count": 83,
   "id": "aaec0f81",
   "metadata": {},
   "outputs": [],
   "source": [
    "import heapq"
   ]
  },
  {
   "cell_type": "code",
   "execution_count": 101,
   "id": "d9e58543",
   "metadata": {},
   "outputs": [
    {
     "name": "stdout",
     "output_type": "stream",
     "text": [
      "Los tres numeros mas grandes son  [49, 48, 44]\n",
      "Los tres numeros mas pequeños son  [0, 1, 3]\n"
     ]
    }
   ],
   "source": [
    "#¿Cuáles son los 3 números más pequeños?\n",
    "print(\"Los tres numeros mas grandes son \",(heapq.nlargest(3,num)))\n",
    "print(\"Los tres numeros mas pequeños son \",(heapq.nsmallest(3,num)))"
   ]
  },
  {
   "cell_type": "code",
   "execution_count": 16,
   "id": "51856751",
   "metadata": {},
   "outputs": [
    {
     "name": "stdout",
     "output_type": "stream",
     "text": [
      "49\n"
     ]
    },
    {
     "data": {
      "text/plain": [
       "range(0, 49)"
      ]
     },
     "execution_count": 16,
     "metadata": {},
     "output_type": "execute_result"
    }
   ],
   "source": [
    "#¿Cuál es el rango de esa lista?\n",
    "print (max(num)-min(num)) \n",
    "range (49)"
   ]
  },
  {
   "cell_type": "code",
   "execution_count": null,
   "id": "088e4d2d",
   "metadata": {},
   "outputs": [],
   "source": [
    "# Ejercicio 4\n",
    "#Crea un diccionario de la siguiente forma y responde a las preguntas:\n",
    "\n",
    "#compra = { \"Pomes\" : {\"Qty\": 5, \"€\": 0.42}, \"Peres\" : {\"Qty\": 3, \"€\": 0.66} }\n",
    "#Añade alguna fruta más\n",
    "#¿Cuánto han costado las peras en total?\n",
    "#¿Cuántas frutas hemos comprado en total?\n",
    "#¿Cuál es la fruta más cara?"
   ]
  },
  {
   "cell_type": "code",
   "execution_count": 20,
   "id": "71b627dc",
   "metadata": {},
   "outputs": [
    {
     "name": "stdout",
     "output_type": "stream",
     "text": [
      "{'Pomes': {'Qty': 5, '€': 0.42}, 'Peres': {'Qty': 3, '€': 0.66}}\n"
     ]
    }
   ],
   "source": [
    "compra = { \"Pomes\" : {\"Qty\": 5, \"€\": 0.42}, \"Peres\" : {\"Qty\": 3, \"€\": 0.66} }\n",
    "print(compra)"
   ]
  },
  {
   "cell_type": "code",
   "execution_count": 21,
   "id": "f0345bbf",
   "metadata": {},
   "outputs": [],
   "source": [
    "#Añade alguna fruta más\n",
    "compra[\"Uvas\"]={'Qty': 4, '€': 1.34}"
   ]
  },
  {
   "cell_type": "code",
   "execution_count": 22,
   "id": "12fc28b6",
   "metadata": {},
   "outputs": [
    {
     "name": "stdout",
     "output_type": "stream",
     "text": [
      "{'Pomes': {'Qty': 5, '€': 0.42}, 'Peres': {'Qty': 3, '€': 0.66}, 'Uvas': {'Qty': 4, '€': 1.34}}\n"
     ]
    }
   ],
   "source": [
    "print(compra)"
   ]
  },
  {
   "cell_type": "code",
   "execution_count": 65,
   "id": "e253f9bf",
   "metadata": {},
   "outputs": [
    {
     "name": "stdout",
     "output_type": "stream",
     "text": [
      "El costo de las Peres es:  1.98\n"
     ]
    }
   ],
   "source": [
    "#¿Cuánto han costado las peras en total?\n",
    "compra[\"Peres\"][\"Qty\"]*compra[\"Peres\"][\"€\"]\n",
    "print(\"El costo de las Peres es: \",compra[\"Peres\"][\"Qty\"]*compra[\"Peres\"][\"€\"])"
   ]
  },
  {
   "cell_type": "code",
   "execution_count": 84,
   "id": "4ceca9d2",
   "metadata": {},
   "outputs": [
    {
     "name": "stdout",
     "output_type": "stream",
     "text": [
      "Se han comprado: 12 frutas\n"
     ]
    }
   ],
   "source": [
    "#¿Cuántas frutas hemos comprado en total?\n",
    "compra[\"Peres\"][\"Qty\"]+compra[\"Pomes\"][\"Qty\"]+compra[\"Uvas\"][\"Qty\"]\n",
    "print(\"Se han comprado:\",compra[\"Peres\"][\"Qty\"]+compra[\"Pomes\"][\"Qty\"]+compra[\"Uvas\"][\"Qty\"],\"frutas\")"
   ]
  },
  {
   "cell_type": "code",
   "execution_count": 101,
   "id": "9dc856bb",
   "metadata": {},
   "outputs": [
    {
     "name": "stdout",
     "output_type": "stream",
     "text": [
      "La fruta mas costosa es:  1.34\n"
     ]
    }
   ],
   "source": [
    "#¿Cuál es la fruta más cara?\n",
    "max(compra[\"Peres\"][\"€\"],compra[\"Pomes\"][\"€\"],compra[\"Uvas\"][\"€\"])\n",
    "print(\"La fruta mas costosa es: \",max(compra[\"Peres\"][\"€\"],compra[\"Pomes\"][\"€\"],compra[\"Uvas\"][\"€\"]))"
   ]
  },
  {
   "cell_type": "code",
   "execution_count": null,
   "id": "e143df4c",
   "metadata": {},
   "outputs": [],
   "source": []
  }
 ],
 "metadata": {
  "kernelspec": {
   "display_name": "Python 3 (ipykernel)",
   "language": "python",
   "name": "python3"
  },
  "language_info": {
   "codemirror_mode": {
    "name": "ipython",
    "version": 3
   },
   "file_extension": ".py",
   "mimetype": "text/x-python",
   "name": "python",
   "nbconvert_exporter": "python",
   "pygments_lexer": "ipython3",
   "version": "3.10.9"
  }
 },
 "nbformat": 4,
 "nbformat_minor": 5
}
