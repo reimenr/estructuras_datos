{
 "cells": [
  {
   "cell_type": "code",
   "execution_count": 49,
   "id": "405ea62e",
   "metadata": {},
   "outputs": [
    {
     "data": {
      "text/plain": [
       "[['Enero', 'Febrero', 'Marzo'],\n",
       " ['Abril', 'Mayo', 'Junio'],\n",
       " ['Julio', 'Agosto', 'Septiembre'],\n",
       " ['Octubre', 'Noviembre', 'Diciembre']]"
      ]
     },
     "execution_count": 49,
     "metadata": {},
     "output_type": "execute_result"
    }
   ],
   "source": [
    "# Ejercicio 1 \n",
    "\n",
    "T1 = [\"Enero\",\"Febrero\",\"Marzo\"]\n",
    "T2 = [\"Abril\",\"Mayo\",\"Junio\"]\n",
    "T3 = [\"Julio\",\"Agosto\",\"Septiembre\"]\n",
    "T4 = [\"Octubre\",\"Noviembre\",\"Diciembre\"]\n",
    "\n",
    "Meses = [T1,T2,T3,T4]\n",
    "Meses"
   ]
  },
  {
   "cell_type": "code",
   "execution_count": 97,
   "id": "43d78842",
   "metadata": {},
   "outputs": [
    {
     "name": "stdout",
     "output_type": "stream",
     "text": [
      "Febrero\n",
      "['Enero', 'Febrero', 'Marzo']\n",
      "Septiembre Octubre\n"
     ]
    }
   ],
   "source": [
    "# Ejercicio 2\n",
    "\n",
    "print (Meses[0][1])\n",
    "print (Meses[0])\n",
    "print (Meses[2][2],Meses[3][0])"
   ]
  },
  {
   "cell_type": "code",
   "execution_count": 25,
   "id": "fdbe5225",
   "metadata": {},
   "outputs": [
    {
     "name": "stdout",
     "output_type": "stream",
     "text": [
      "[1, 5, 8, 4, 0, 3, 6, 12, 16, 19, 34, 38, 25, 22, 15, 27, 3, 44, 48, 49]\n"
     ]
    }
   ],
   "source": [
    "# Ejercicio 3\n",
    "\n",
    "num=[1, 5, 8, 4, 0, 3, 6, 12, 16, 19, 34, 38, 25, 22, 15, 27, 3, 44, 48, 49]\n",
    "print(num)"
   ]
  },
  {
   "cell_type": "code",
   "execution_count": 26,
   "id": "289f5521",
   "metadata": {},
   "outputs": [
    {
     "name": "stdout",
     "output_type": "stream",
     "text": [
      "Hay 20 numeros.\n"
     ]
    }
   ],
   "source": [
    "#¿Cuántos números hay?\n",
    "print(\"Hay\", len(num), \"numeros.\")"
   ]
  },
  {
   "cell_type": "code",
   "execution_count": 27,
   "id": "e1a65f44",
   "metadata": {},
   "outputs": [
    {
     "name": "stdout",
     "output_type": "stream",
     "text": [
      "El numero 3 aparece 2 veces\n"
     ]
    }
   ],
   "source": [
    "# Cuántas veces aparece el número 3.\n",
    "print(\"El numero 3 aparece\", num.count(3), \"veces\")"
   ]
  },
  {
   "cell_type": "code",
   "execution_count": 28,
   "id": "d6be74a7",
   "metadata": {},
   "outputs": [
    {
     "name": "stdout",
     "output_type": "stream",
     "text": [
      "El numero 3 aparece 2 veces.\n",
      "El numero 4 aparece 1 veces.\n",
      "Los numeros 3 y 4 aparecen 3 veces\n"
     ]
    }
   ],
   "source": [
    "#¿Cuántas veces aparecen los números 3 y 4?\n",
    "num.count(3)\n",
    "num.count(4)\n",
    "print(\"El numero 3 aparece {} veces.\".format(num.count(3)))\n",
    "print(\"El numero 4 aparece {} veces.\".format(num.count(4)))\n",
    "print(\"Los numeros 3 y 4 aparecen\", (num.count(3)+ num.count(4)), \"veces\")"
   ]
  },
  {
   "cell_type": "code",
   "execution_count": 29,
   "id": "c5e64945",
   "metadata": {},
   "outputs": [
    {
     "name": "stdout",
     "output_type": "stream",
     "text": [
      "El mayor numero es  49\n"
     ]
    }
   ],
   "source": [
    "# ¿Cuál es el mayor número?\n",
    "print(\"El mayor numero es \", max(num))"
   ]
  },
  {
   "cell_type": "code",
   "execution_count": 30,
   "id": "aaec0f81",
   "metadata": {},
   "outputs": [],
   "source": [
    "import heapq"
   ]
  },
  {
   "cell_type": "code",
   "execution_count": 31,
   "id": "d9e58543",
   "metadata": {},
   "outputs": [
    {
     "name": "stdout",
     "output_type": "stream",
     "text": [
      "Los tres numeros mas grandes son  [49, 48, 44]\n",
      "Los tres numeros mas pequeños son  [0, 1, 3]\n"
     ]
    }
   ],
   "source": [
    "#¿Cuáles son los 3 números más pequeños?\n",
    "print(\"Los tres numeros mas grandes son \",(heapq.nlargest(3,num)))\n",
    "print(\"Los tres numeros mas pequeños son \",(heapq.nsmallest(3,num)))"
   ]
  },
  {
   "cell_type": "code",
   "execution_count": 32,
   "id": "51856751",
   "metadata": {},
   "outputs": [
    {
     "name": "stdout",
     "output_type": "stream",
     "text": [
      "49\n"
     ]
    },
    {
     "data": {
      "text/plain": [
       "range(0, 49)"
      ]
     },
     "execution_count": 32,
     "metadata": {},
     "output_type": "execute_result"
    }
   ],
   "source": [
    "#¿Cuál es el rango de esa lista?\n",
    "print (max(num)-min(num)) \n",
    "range (49)"
   ]
  },
  {
   "cell_type": "code",
   "execution_count": 2,
   "id": "71b627dc",
   "metadata": {},
   "outputs": [
    {
     "name": "stdout",
     "output_type": "stream",
     "text": [
      "{'Pomes': {'Qty': 5, '€': 0.42}, 'Peres': {'Qty': 3, '€': 0.66}}\n"
     ]
    }
   ],
   "source": [
    "# Ejercicio 4\n",
    "compra = { \"Pomes\" : {\"Qty\": 5, \"€\": 0.42}, \"Peres\" : {\"Qty\": 3, \"€\": 0.66} }\n",
    "print(compra)"
   ]
  },
  {
   "cell_type": "code",
   "execution_count": 3,
   "id": "f0345bbf",
   "metadata": {},
   "outputs": [],
   "source": [
    "compra[\"Uvas\"]={'Qty': 4, '€': 1.34}"
   ]
  },
  {
   "cell_type": "code",
   "execution_count": 19,
   "id": "12fc28b6",
   "metadata": {},
   "outputs": [
    {
     "data": {
      "text/plain": [
       "{'Pomes': {'Qty': 5, '€': 0.42},\n",
       " 'Peres': {'Qty': 3, '€': 0.66},\n",
       " 'Uvas': {'Qty': 4, '€': 1.34}}"
      ]
     },
     "execution_count": 19,
     "metadata": {},
     "output_type": "execute_result"
    }
   ],
   "source": [
    "(compra)"
   ]
  },
  {
   "cell_type": "code",
   "execution_count": 61,
   "id": "e253f9bf",
   "metadata": {},
   "outputs": [
    {
     "name": "stdout",
     "output_type": "stream",
     "text": [
      "El costo de las Peres es:  1.98\n"
     ]
    }
   ],
   "source": [
    "print(\"El costo de las Peres es: \",compra[\"Peres\"][\"Qty\"]*compra[\"Peres\"][\"€\"])"
   ]
  },
  {
   "cell_type": "code",
   "execution_count": 60,
   "id": "4ceca9d2",
   "metadata": {},
   "outputs": [
    {
     "name": "stdout",
     "output_type": "stream",
     "text": [
      "El total de frutas es:  12\n"
     ]
    }
   ],
   "source": [
    "total = sum(compra[fruta][\"Qty\"] for fruta in compra)\n",
    "print(\"El total de frutas es: \", total)"
   ]
  },
  {
   "cell_type": "code",
   "execution_count": 58,
   "id": "2577955a",
   "metadata": {},
   "outputs": [
    {
     "name": "stdout",
     "output_type": "stream",
     "text": [
      "La fruta más costosa es Uvas con un precio de €1.34\n"
     ]
    }
   ],
   "source": [
    "fruta_mas_costosa = None\n",
    "precio_mas_alto = 0\n",
    "\n",
    "for fruta, info in compra.items():\n",
    "    precio_fruta = info['€']\n",
    "    if precio_fruta > precio_mas_alto:\n",
    "        precio_mas_alto = precio_fruta\n",
    "        fruta_mas_costosa = fruta\n",
    "\n",
    "if fruta_mas_costosa:\n",
    "    print(f\"La fruta más costosa es {fruta_mas_costosa} con un precio de €{precio_mas_alto:.2f}\")"
   ]
  }
 ],
 "metadata": {
  "kernelspec": {
   "display_name": "Python 3 (ipykernel)",
   "language": "python",
   "name": "python3"
  },
  "language_info": {
   "codemirror_mode": {
    "name": "ipython",
    "version": 3
   },
   "file_extension": ".py",
   "mimetype": "text/x-python",
   "name": "python",
   "nbconvert_exporter": "python",
   "pygments_lexer": "ipython3",
   "version": "3.10.9"
  }
 },
 "nbformat": 4,
 "nbformat_minor": 5
}
